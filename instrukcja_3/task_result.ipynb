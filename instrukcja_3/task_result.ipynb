{
 "cells": [
  {
   "cell_type": "code",
   "execution_count": 1,
   "id": "isolated-hearing",
   "metadata": {},
   "outputs": [],
   "source": [
    "import rospy\n",
    "from geometry_msgs.msg import Vector3\n",
    "from move_base_msgs.msg import MoveBaseActionResult, MoveBaseActionFeedback\n",
    "rospy.init_node(\"task_result\", anonymous=True)"
   ]
  },
  {
   "cell_type": "code",
   "execution_count": 2,
   "id": "small-complexity",
   "metadata": {},
   "outputs": [],
   "source": [
    "statusy = Vector3()\n",
    "def callback_tb3_0(msg_data):\n",
    "    global statusy\n",
    "    statusy.x = msg_data.status.status\n",
    "def callback_tb3_1(msg_data):\n",
    "    global statusy\n",
    "    statusy.y = msg_data.status.status\n",
    "def callback_tb3_2(msg_data):\n",
    "    global statusy\n",
    "    statusy.z = msg_data.status.status\n",
    "    \n",
    "def callback_tb3_0_feedback(msg_data):\n",
    "    global statusy\n",
    "    statusy.x = msg_data.status.status\n",
    "def callback_tb3_1_feedback(msg_data):\n",
    "    global statusy\n",
    "    statusy.x = msg_data.status.status\n",
    "def callback_tb3_2_feedback(msg_data):\n",
    "    global statusy\n",
    "    statusy.x = msg_data.status.status"
   ]
  },
  {
   "cell_type": "code",
   "execution_count": 3,
   "id": "legitimate-chile",
   "metadata": {},
   "outputs": [],
   "source": [
    "rospy.Subscriber(\"/tb3_0/move_base/result\",MoveBaseActionResult,callback_tb3_0)\n",
    "rospy.Subscriber(\"/tb3_1/move_base/result\",MoveBaseActionResult,callback_tb3_1)\n",
    "rospy.Subscriber(\"/tb3_2/move_base/result\",MoveBaseActionResult,callback_tb3_2)\n",
    "\n",
    "rospy.Subscriber(\"/tb3_0/move_base/feedback\",MoveBaseActionFeedback,callback_tb3_0_feedback)\n",
    "rospy.Subscriber(\"/tb3_1/move_base/feedback\",MoveBaseActionFeedback,callback_tb3_1_feedback)\n",
    "rospy.Subscriber(\"/tb3_2/move_base/feedback\",MoveBaseActionFeedback,callback_tb3_2_feedback)\n",
    "\n",
    "pub_statusy = rospy.Publisher(\"/robots_task_status\", Vector3, queue_size=10)"
   ]
  },
  {
   "cell_type": "code",
   "execution_count": null,
   "id": "automated-mediterranean",
   "metadata": {},
   "outputs": [],
   "source": [
    "rate = rospy.Rate(1) # 10hz\n",
    "while not rospy.is_shutdown():\n",
    "    pub_statusy.publish(statusy)\n",
    "    rate.sleep()"
   ]
  },
  {
   "cell_type": "code",
   "execution_count": null,
   "id": "musical-notice",
   "metadata": {},
   "outputs": [],
   "source": []
  }
 ],
 "metadata": {
  "kernelspec": {
   "display_name": "Python 3",
   "language": "python",
   "name": "python3"
  },
  "language_info": {
   "codemirror_mode": {
    "name": "ipython",
    "version": 3
   },
   "file_extension": ".py",
   "mimetype": "text/x-python",
   "name": "python",
   "nbconvert_exporter": "python",
   "pygments_lexer": "ipython3",
   "version": "3.8.5"
  }
 },
 "nbformat": 4,
 "nbformat_minor": 5
}
